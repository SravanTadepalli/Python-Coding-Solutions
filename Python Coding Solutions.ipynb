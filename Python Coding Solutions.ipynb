{
 "cells": [
  {
   "cell_type": "code",
   "execution_count": 11,
   "id": "4327bd52-026e-4e62-860a-2f2f9958eaaf",
   "metadata": {},
   "outputs": [
    {
     "name": "stdin",
     "output_type": "stream",
     "text": [
      " 65896\n"
     ]
    },
    {
     "name": "stdout",
     "output_type": "stream",
     "text": [
      "65896 Is not a Palindrome\n"
     ]
    }
   ],
   "source": [
    "#Python program to check if a string is a palindrome.   # 1\n",
    "u=input()\n",
    "i=u[::-1]\n",
    "if u==i:\n",
    "    print(u,\"Is a Palindrome\")\n",
    "else:\n",
    "    print(u,\"Is not a Palindrome\")"
   ]
  },
  {
   "cell_type": "code",
   "execution_count": 15,
   "id": "5d25f2a4-b8f8-4a48-9d33-51631b99a045",
   "metadata": {},
   "outputs": [
    {
     "name": "stdin",
     "output_type": "stream",
     "text": [
      "Enter a number:  5\n"
     ]
    },
    {
     "name": "stdout",
     "output_type": "stream",
     "text": [
      "The factorial of 5 is 120\n"
     ]
    }
   ],
   "source": [
    "#Python program to find the factorial of a number     #2\n",
    "num = int(input(\"Enter a number: \"))\n",
    "factorial = 1\n",
    "\n",
    "if num < 0:\n",
    "   print(\"Sorry, factorial does not exist\")\n",
    "elif num == 0:\n",
    "   print(\"The factorial of 0 is 1\")\n",
    "else:\n",
    "   for i in range(1,num + 1):\n",
    "       factorial = factorial*i\n",
    "   print(\"The factorial of\",num,\"is\",factorial)"
   ]
  },
  {
   "cell_type": "code",
   "execution_count": 17,
   "id": "838c4fde-c253-426f-9089-e201a77d19ed",
   "metadata": {},
   "outputs": [
    {
     "name": "stdin",
     "output_type": "stream",
     "text": [
      "Enter numbers separated by commas:  85,63,2,5,8,563,8,5,2,1,4,7\n"
     ]
    },
    {
     "name": "stdout",
     "output_type": "stream",
     "text": [
      "Your list: [85, 63, 2, 5, 8, 563, 8, 5, 2, 1, 4, 7]\n",
      "Your list after removing the duplicates : [1, 2, 4, 5, 7, 8, 563, 85, 63]\n"
     ]
    }
   ],
   "source": [
    "#removing duplicates in a list                          #3\n",
    "u = input(\"Enter numbers separated by commas: \")\n",
    "i = [int(x) for x in u.split(',')]\n",
    "print(\"Your list:\",i)\n",
    "\n",
    "p=set(i)\n",
    "d=list(p)\n",
    "print(\"Your list after removing the duplicates :\",d)"
   ]
  },
  {
   "cell_type": "code",
   "execution_count": 21,
   "id": "4b17a4db-05dd-4e2a-ab00-2d516d0cd01e",
   "metadata": {},
   "outputs": [
    {
     "name": "stdin",
     "output_type": "stream",
     "text": [
      "Enter the String: yaskin\n"
     ]
    },
    {
     "name": "stdout",
     "output_type": "stream",
     "text": [
      "no. of vowels: 2\n",
      "no. of consonants 4\n"
     ]
    }
   ],
   "source": [
    "# count of vowels and consonants                      #4\n",
    "x=input(\"Enter the String:\")\n",
    "m=x.lower()\n",
    "vowels=[\"a\",\"e\",\"i\",\"o\",\"u\"]\n",
    "g=0\n",
    "d=0\n",
    "for i in m:\n",
    "    if i in vowels:\n",
    "        g=g+1\n",
    "    else:\n",
    "        d=d+1  \n",
    "print(\"no. of vowels:\",g)\n",
    "print(\"no. of consonants\",d)"
   ]
  },
  {
   "cell_type": "code",
   "execution_count": 126,
   "id": "42b9183c-f701-4e48-9100-b4e94075899a",
   "metadata": {},
   "outputs": [
    {
     "name": "stdin",
     "output_type": "stream",
     "text": [
      " hiii\n"
     ]
    },
    {
     "name": "stdout",
     "output_type": "stream",
     "text": [
      "Reverse: None\n"
     ]
    }
   ],
   "source": [
    "#Python program to reverse a string                      #5\n",
    "i=input()\n",
    "i=u[::-1]\n",
    "print(\"Reverse:\",i)"
   ]
  },
  {
   "cell_type": "code",
   "execution_count": 156,
   "id": "eb8083b9-1207-48c8-b395-51ca02196cef",
   "metadata": {},
   "outputs": [
    {
     "name": "stdout",
     "output_type": "stream",
     "text": [
      "The reversed string is : "
     ]
    },
    {
     "name": "stdin",
     "output_type": "stream",
     "text": [
      "Enter the string: byeee\n"
     ]
    },
    {
     "data": {
      "text/plain": [
       "'eeeyb'"
      ]
     },
     "execution_count": 156,
     "metadata": {},
     "output_type": "execute_result"
    }
   ],
   "source": [
    "#Python program to reverse a string  using function\n",
    "def reverse(s):                                            #6\n",
    "    s = input(\"Enter the string:\")\n",
    "    str = \"\"\n",
    "    for i in s:\n",
    "        str = i + str\n",
    "    return str\n",
    "    \n",
    "print(\"The reversed string is : \", end=\"\")\n",
    "\n",
    "reverse(s)"
   ]
  },
  {
   "cell_type": "code",
   "execution_count": 43,
   "id": "e5e1ec69-107a-42ba-9a7e-7d6c2efaf911",
   "metadata": {},
   "outputs": [
    {
     "name": "stdin",
     "output_type": "stream",
     "text": [
      "Enter a number:  561\n"
     ]
    },
    {
     "name": "stdout",
     "output_type": "stream",
     "text": [
      "561 is not a prime number\n",
      "3 times 187 is 561\n"
     ]
    }
   ],
   "source": [
    "#Python program to check if a number is prime.       #7\n",
    "num = int(input(\"Enter a number: \"))\n",
    "\n",
    "if num == 0 or num == 1:\n",
    "    print(num, \"is not a prime number\")\n",
    "elif num > 1:\n",
    "   for i in range(2,num):\n",
    "       if (num % i) == 0:\n",
    "           print(num,\"is not a prime number\")\n",
    "           print(i,\"times\",num//i,\"is\",num)\n",
    "           break\n",
    "   else:\n",
    "       print(num,\"is a prime number\")\n",
    "else:\n",
    "   print(num,\"is not a prime number\")"
   ]
  },
  {
   "cell_type": "code",
   "execution_count": 93,
   "id": "23021e54-94a2-41d3-8118-c8d7c3af0c34",
   "metadata": {},
   "outputs": [
    {
     "name": "stdin",
     "output_type": "stream",
     "text": [
      " 4\n"
     ]
    },
    {
     "name": "stdout",
     "output_type": "stream",
     "text": [
      "Square of 4 : 16\n"
     ]
    }
   ],
   "source": [
    "# Program to calculate the square of a given number.     #8\n",
    "g=int(input())\n",
    "square=g*g\n",
    "print(\"Square of\",g,':',square)"
   ]
  },
  {
   "cell_type": "code",
   "execution_count": 47,
   "id": "ce393cdd-eb29-43f8-bcac-3dc0dda38a2d",
   "metadata": {},
   "outputs": [
    {
     "name": "stdin",
     "output_type": "stream",
     "text": [
      "Enter the String: hi\n"
     ]
    },
    {
     "data": {
      "text/plain": [
       "'hi'"
      ]
     },
     "execution_count": 47,
     "metadata": {},
     "output_type": "execute_result"
    }
   ],
   "source": [
    "#program to copy one string to another string             #9\n",
    "a=input(\"Enter the String:\")\n",
    "b=a\n",
    "b"
   ]
  },
  {
   "cell_type": "code",
   "execution_count": 95,
   "id": "7dfb9fd9-1396-45f5-886a-08aa83655b33",
   "metadata": {},
   "outputs": [
    {
     "name": "stdin",
     "output_type": "stream",
     "text": [
      "Enter the string: hello\n"
     ]
    },
    {
     "name": "stdout",
     "output_type": "stream",
     "text": [
      "e h l l o\n"
     ]
    }
   ],
   "source": [
    "#Program to sort characters of string in ascending order    #10\n",
    "t=input(\"Enter the string:\")\n",
    "s=list(t)\n",
    "s.sort()\n",
    "m=' '.join(s)\n",
    "print(m)"
   ]
  },
  {
   "cell_type": "code",
   "execution_count": 99,
   "id": "4c036b2a-3382-45a3-a314-8ce2727f5ab5",
   "metadata": {},
   "outputs": [
    {
     "name": "stdin",
     "output_type": "stream",
     "text": [
      "Enter the string: hello\n"
     ]
    },
    {
     "name": "stdout",
     "output_type": "stream",
     "text": [
      "o l l h e\n"
     ]
    }
   ],
   "source": [
    "#Program to sort characters of string in descending order     #11\n",
    "t=input(\"Enter the string:\")\n",
    "s=list(t)\n",
    "s.sort()\n",
    "m=' '.join(s)\n",
    "print(m[::-1])"
   ]
  },
  {
   "cell_type": "code",
   "execution_count": 73,
   "id": "fc4181dc-4ed6-49f0-b960-56d576949f73",
   "metadata": {},
   "outputs": [
    {
     "name": "stdin",
     "output_type": "stream",
     "text": [
      "Enter the value: 8\n",
      "Enter the value: 3\n"
     ]
    },
    {
     "name": "stdout",
     "output_type": "stream",
     "text": [
      "After Swapping: 3\n",
      "After swapping 8\n"
     ]
    }
   ],
   "source": [
    "#Python to swap two numbers with using third variable.       #12\n",
    "a=int(input(\"Enter the value:\"))\n",
    "b=int(input(\"Enter the value:\"))\n",
    "c=a\n",
    "a=b\n",
    "b=c\n",
    "print(\"After Swapping:\",a)\n",
    "print(\"After swapping\",b)"
   ]
  },
  {
   "cell_type": "code",
   "execution_count": 19,
   "id": "f1d03b8b-a62c-49ec-a3a6-eae38647dc25",
   "metadata": {},
   "outputs": [
    {
     "name": "stdin",
     "output_type": "stream",
     "text": [
      "Enter the first number 12\n",
      "Enter the second number 15\n"
     ]
    },
    {
     "name": "stdout",
     "output_type": "stream",
     "text": [
      "LCM is : 60\n"
     ]
    }
   ],
   "source": [
    "#program to calculate LCM of given two numbers.                #13\n",
    "a=int(input(\"Enter the first number\"))\n",
    "b=int(input(\"Enter the second number\"))\n",
    "if a>b:\n",
    "    big=a\n",
    "#value=big\n",
    "else:\n",
    "    big=b\n",
    "while(True):\n",
    "    if big % a==0 and big % b==0:\n",
    "        lcm=big\n",
    "        break\n",
    "    big +=1\n",
    "    #big+=value\n",
    "print(\"LCM is :\",lcm)"
   ]
  },
  {
   "cell_type": "code",
   "execution_count": 15,
   "id": "ac08b1c4-11e3-4282-acb3-5c0c4807023b",
   "metadata": {},
   "outputs": [
    {
     "name": "stdin",
     "output_type": "stream",
     "text": [
      "Enter the first number 9\n",
      "Enter the second number 5\n",
      "Enter the third number 3\n"
     ]
    },
    {
     "name": "stdout",
     "output_type": "stream",
     "text": [
      "smallest number is: 3\n"
     ]
    }
   ],
   "source": [
    "#Program to find smallest number among three                   #14\n",
    "a=int(input(\"Enter the first number\"))\n",
    "b=int(input(\"Enter the second number\"))\n",
    "c=int(input(\"Enter the third number\"))\n",
    "print(\"smallest number is:\",min(a,b,c))"
   ]
  },
  {
   "cell_type": "code",
   "execution_count": 13,
   "id": "9da0cf75-c460-4087-bad3-6e2bdb168441",
   "metadata": {},
   "outputs": [
    {
     "name": "stdin",
     "output_type": "stream",
     "text": [
      "Enter numbers separated by commas:  8,52,36,5,2,1,4,5,6,9,8,5,2458\n"
     ]
    },
    {
     "name": "stdout",
     "output_type": "stream",
     "text": [
      "Minimum number: 1\n"
     ]
    }
   ],
   "source": [
    "#python program to Find the Minimum Number in a List.            #15\n",
    "user_input = input(\"Enter numbers separated by commas: \")\n",
    "i = [int(x) for x in user_input.split(',')]\n",
    "print(\"Minimum number:\",min(i))"
   ]
  },
  {
   "cell_type": "code",
   "execution_count": 38,
   "id": "15812b61-d6b5-4073-bca9-ab2201107e94",
   "metadata": {},
   "outputs": [
    {
     "name": "stdin",
     "output_type": "stream",
     "text": [
      "Enter the first number 8\n",
      "Enter the second number 9\n",
      "Enter the third number 12\n"
     ]
    },
    {
     "name": "stdout",
     "output_type": "stream",
     "text": [
      "[8, 9, 12]\n",
      "12\n"
     ]
    }
   ],
   "source": [
    "#python program to Find the Maximum Number in a List.            #16\n",
    "a=int(input(\"Enter the first number\"))\n",
    "b=int(input(\"Enter the second number\"))\n",
    "c=int(input(\"Enter the third number\"))\n",
    "f=[a,b,c]\n",
    "print(f)\n",
    "print(max(f))"
   ]
  },
  {
   "cell_type": "code",
   "execution_count": 9,
   "id": "5ef3c20e-d3a2-42a8-bc24-fe598fed55fd",
   "metadata": {},
   "outputs": [
    {
     "name": "stdin",
     "output_type": "stream",
     "text": [
      "Enter Elements separated by commas:  Hi,Hello,dude,how_are_you,okay,bye\n"
     ]
    },
    {
     "name": "stdout",
     "output_type": "stream",
     "text": [
      "largest by length for string element is : how_are_you\n"
     ]
    }
   ],
   "source": [
    "#Python program to find the largest element in a list.          #17\n",
    "#let us take largest by length for string elements in a list.\n",
    "u= input(\"Enter Elements separated by commas: \")\n",
    "i= [str(x) for x in u.split(',')]\n",
    "largest=i[0]\n",
    "for x in i:\n",
    "    if len(x)>len(largest):\n",
    "        largest=x\n",
    "print(\"largest by length for string element is :\",largest)"
   ]
  },
  {
   "cell_type": "code",
   "execution_count": 160,
   "id": "6aba9f61-3b17-4a5b-b426-138a6eeb34bd",
   "metadata": {},
   "outputs": [
    {
     "name": "stdin",
     "output_type": "stream",
     "text": [
      "Enter Elements separated by commas:  Hi,Hello,dude,how_are_you,okay,bye\n"
     ]
    },
    {
     "name": "stdout",
     "output_type": "stream",
     "text": [
      "smallest by length for string element is : Hi\n"
     ]
    }
   ],
   "source": [
    "#Python program to find the Smallest element in a list.          #18\n",
    "#let us take small by length for string elements in a list.\n",
    "u= input(\"Enter Elements separated by commas: \")\n",
    "i= [str(x) for x in u.split(',')]\n",
    "smallest=i[0]\n",
    "for x in i:\n",
    "    if len(x)<len(smallest):\n",
    "        smallest=x\n",
    "print(\"smallest by length for string element is :\",smallest)"
   ]
  },
  {
   "cell_type": "code",
   "execution_count": 39,
   "id": "0a48645c-9ae7-4470-bcb4-ff9a4c94b89f",
   "metadata": {},
   "outputs": [
    {
     "name": "stdout",
     "output_type": "stream",
     "text": [
      "Common elements are : {'banana'}\n"
     ]
    }
   ],
   "source": [
    "#Python program to find the common elements between two lists.    #19\n",
    "#static input\n",
    "a=[\"apple\", \"banana\", \"cherry\", \"date\"]\n",
    "s = [\"papaya\", \"banana\", \"mango\", \"keer\"]\n",
    "b=set(a)\n",
    "c=set(s)\n",
    "z=b.intersection(c)\n",
    "#z=b&c\n",
    "print(\"Common elements are :\",z)"
   ]
  },
  {
   "cell_type": "code",
   "execution_count": 37,
   "id": "2c58b461-eb9a-4332-a5e8-1fb2bdee5c2a",
   "metadata": {},
   "outputs": [
    {
     "name": "stdin",
     "output_type": "stream",
     "text": [
      "Enter Elements separated by commas in LIST-1:  loki,apple,goa,bye\n",
      "Enter Elements separated by commas IN LIST-2:  giri,goa,loki,hi\n"
     ]
    },
    {
     "name": "stdout",
     "output_type": "stream",
     "text": [
      "Common elements are : {'goa', 'loki'}\n"
     ]
    }
   ],
   "source": [
    "#Python program to find the common elements between two lists.   #20\n",
    "#dynamic input\n",
    "f= input(\"Enter Elements separated by commas in LIST-1: \")\n",
    "r1= [str(x) for x in f.split(',')]\n",
    "q= input(\"Enter Elements separated by commas IN LIST-2: \")\n",
    "r2= [str(x) for x in q.split(',')]\n",
    "t=set(r1)\n",
    "k=set(r2)\n",
    "w=t.intersection(k)\n",
    "#w=t&k\n",
    "print(\"Common elements are :\",w)"
   ]
  },
  {
   "cell_type": "code",
   "execution_count": 45,
   "id": "4ebd42dd-47c8-4ecd-a891-1f65690b4be4",
   "metadata": {},
   "outputs": [
    {
     "name": "stdout",
     "output_type": "stream",
     "text": [
      "Element frequencies: {'apple': 2, 'banana': 3, 'cherry': 1}\n"
     ]
    }
   ],
   "source": [
    "#Python program to count the frequency of each element in a list.   #21\n",
    "elements = [\"apple\", \"banana\", \"apple\", \"cherry\", \"banana\", \"banana\"]\n",
    "frequency = {}\n",
    "\n",
    "for element in elements:\n",
    "    if element in frequency:\n",
    "        frequency[element] += 1\n",
    "    else:\n",
    "        frequency[element] = 1\n",
    "        \n",
    "print(\"Element frequencies:\", frequency)"
   ]
  },
  {
   "cell_type": "code",
   "execution_count": 49,
   "id": "e9f544f2-016d-4904-b95a-ac152efe60c7",
   "metadata": {},
   "outputs": [
    {
     "name": "stdout",
     "output_type": "stream",
     "text": [
      "Element frequencies: Counter({'banana': 3, 'apple': 2, 'cherry': 1})\n"
     ]
    }
   ],
   "source": [
    "#count the frequency of each element in a list.                    #22\n",
    "from collections import Counter\n",
    "elements = [\"apple\", \"banana\", \"apple\", \"cherry\", \"banana\", \"banana\"]\n",
    "frequency = Counter(elements)\n",
    "print(\"Element frequencies:\", frequency)"
   ]
  },
  {
   "cell_type": "code",
   "execution_count": 51,
   "id": "6b57f84c-2ff4-4d25-92c3-dfd77560c424",
   "metadata": {},
   "outputs": [
    {
     "name": "stdin",
     "output_type": "stream",
     "text": [
      "Enter the number of strings:  5\n",
      "Enter a string:  apple\n",
      "Enter a string:  apple\n",
      "Enter a string:  banana\n",
      "Enter a string:  mango\n",
      "Enter a string:  banana\n"
     ]
    },
    {
     "name": "stdout",
     "output_type": "stream",
     "text": [
      "Element frequencies: {'apple': 2, 'banana': 2, 'mango': 1}\n"
     ]
    }
   ],
   "source": [
    "#count the frequency of each element in a list.                    #23\n",
    "num_strings = int(input(\"Enter the number of strings: \"))\n",
    "\n",
    "elements = []\n",
    "for _ in range(num_strings):\n",
    "    user_input = input(\"Enter a string: \")\n",
    "    elements.append(user_input)\n",
    "    \n",
    "frequency = {}\n",
    "for element in elements:\n",
    "    if element in frequency:\n",
    "        frequency[element] += 1\n",
    "    else:\n",
    "        frequency[element] = 1\n",
    "        \n",
    "print(\"Element frequencies:\", frequency)"
   ]
  },
  {
   "cell_type": "code",
   "execution_count": 23,
   "id": "6ed80017-b4d8-46b9-8588-a205ea97333f",
   "metadata": {},
   "outputs": [
    {
     "name": "stdin",
     "output_type": "stream",
     "text": [
      "Enter Elements separated by commas in LIST-1:  85,52,6,5,4,7,8,9658,8564\n"
     ]
    },
    {
     "name": "stdout",
     "output_type": "stream",
     "text": [
      "The second largest number in the list is: 8564\n"
     ]
    }
   ],
   "source": [
    "#Python program to find the second largest number in a list.       #24\n",
    "def find_second_largest(numbers):\n",
    "    unique_numbers = list(set(numbers)) \n",
    "    if len(unique_numbers) < 2:\n",
    "        return None  \n",
    "\n",
    "    unique_numbers.sort()  \n",
    "    return unique_numbers[-2]  \n",
    "    \n",
    "f= input(\"Enter Elements separated by commas : \")\n",
    "numbers= [str(x) for x in f.split(',')]\n",
    "\n",
    "second_largest = find_second_largest(numbers) #calling the function\n",
    "\n",
    "print(\"The second largest number in the list is:\", second_largest)"
   ]
  },
  {
   "cell_type": "code",
   "execution_count": 33,
   "id": "fa9eabdf-2353-495f-aa63-2949b59866bc",
   "metadata": {},
   "outputs": [
    {
     "name": "stdin",
     "output_type": "stream",
     "text": [
      "Enter the string:  swallow\n",
      "Enter the character to count:  w\n"
     ]
    },
    {
     "name": "stdout",
     "output_type": "stream",
     "text": [
      "w oocurs 2 times\n"
     ]
    }
   ],
   "source": [
    "# Program to Count the Number of Occurrences of a Character in a String.  #25\n",
    "h= input(\"Enter the string: \")\n",
    "c= input(\"Enter the character to count: \")\n",
    "\n",
    "if len(c) != 1:\n",
    "    print(\"Please enter exactly one character.\")\n",
    "else:\n",
    "    count = h.count(c)\n",
    "    print(c,\"oocurs\",count,\"times\")"
   ]
  },
  {
   "cell_type": "markdown",
   "id": "ca7ad9bf-8cb2-4bdd-8aef-1067a72c2a62",
   "metadata": {},
   "source": [
    "### codes using functions"
   ]
  },
  {
   "cell_type": "code",
   "execution_count": 113,
   "id": "217431cd-ce74-4b99-8389-4b5d55f5c89b",
   "metadata": {},
   "outputs": [
    {
     "name": "stdin",
     "output_type": "stream",
     "text": [
      "Enter the number: 856\n"
     ]
    },
    {
     "name": "stdout",
     "output_type": "stream",
     "text": [
      "856 is a prime number\n"
     ]
    }
   ],
   "source": [
    "#prime number using functions                          #26\n",
    "def prime(k):\n",
    "    if k==0 and k==1:\n",
    "        print(k,\"is not defined.\")\n",
    "    elif k>1:\n",
    "       for i in range(2,k):\n",
    "           if (k//i==0):\n",
    "            print(k,\"is not a prime number\")\n",
    "            break\n",
    "       else:\n",
    "            print(k,\"is a prime number\")\n",
    "    else:\n",
    "        print(k,\"is neither nor a prime number\")\n",
    "\n",
    "k=int(input(\"Enter the number:\"))\n",
    "prime(k)"
   ]
  },
  {
   "cell_type": "code",
   "execution_count": 41,
   "id": "763cf27a-51a7-4014-ad21-89e9969ff755",
   "metadata": {},
   "outputs": [
    {
     "name": "stdin",
     "output_type": "stream",
     "text": [
      "Enter the Input:  656\n"
     ]
    },
    {
     "name": "stdout",
     "output_type": "stream",
     "text": [
      "656 is a Palindrome Number\n"
     ]
    }
   ],
   "source": [
    "#palindrome using functions                          #27\n",
    "def palindrome(a):\n",
    "    c=a[::-1]\n",
    "    if(c==a):\n",
    "        print(a,\"is a Palindrome Number\")\n",
    "    else:\n",
    "        print(a,\"is not a Palindrome Number\")\n",
    "a=input(\"Enter the Input: \")\n",
    "palindrome(a)"
   ]
  },
  {
   "cell_type": "code",
   "execution_count": 119,
   "id": "d693bed4-8e9d-4911-9905-4c53f684aabb",
   "metadata": {},
   "outputs": [
    {
     "name": "stdin",
     "output_type": "stream",
     "text": [
      " 9\n"
     ]
    },
    {
     "name": "stdout",
     "output_type": "stream",
     "text": [
      "fibinocci series:\n",
      "0 1 1 2 3 5 8 13 21 "
     ]
    }
   ],
   "source": [
    "#code for Fibinocci Series.                      #28\n",
    "def fibinocci(n):\n",
    "    n1,n2=0,1\n",
    "    sum=0\n",
    "    if n<0:\n",
    "        print(\"Please enter positive number.\")\n",
    "    else:\n",
    "        print(\"fibinocci series:\")\n",
    "        for i in range(0,n):\n",
    "            print(sum,end=' ')\n",
    "            n1=n2\n",
    "            n2=sum\n",
    "            sum=n1+n2\n",
    "n=int(input())\n",
    "fibinocci(n)"
   ]
  },
  {
   "cell_type": "code",
   "execution_count": 117,
   "id": "47d9ad9a-2e7b-40dc-84a2-6102bf784040",
   "metadata": {},
   "outputs": [
    {
     "name": "stdin",
     "output_type": "stream",
     "text": [
      "Enter the string: ((((((((((((((((((((hello))))))))))))))))))))\n"
     ]
    },
    {
     "name": "stdout",
     "output_type": "stream",
     "text": [
      "opening parentheses count: 20\n",
      "closing parentheses 20\n",
      "Parentheses are balanced\n"
     ]
    }
   ],
   "source": [
    "#Code for Counting Parentheses                  #29\n",
    "def parentheses_count(u):\n",
    "    open=u.count('(')\n",
    "    close=u.count(')')\n",
    "    print(\"opening parentheses count:\",open)\n",
    "    print(\"closing parentheses\",close)\n",
    "    if open==close:\n",
    "        print(\"Parentheses are balanced\")\n",
    "    else:\n",
    "        print(\"Parentheses are not balanced\")\n",
    "u=input(\"Enter the string:\")\n",
    "parentheses_count(u)"
   ]
  },
  {
   "cell_type": "code",
   "execution_count": 52,
   "id": "b652eb0a-c4bc-4c5f-a1aa-fb12c6e33f90",
   "metadata": {},
   "outputs": [
    {
     "name": "stdin",
     "output_type": "stream",
     "text": [
      " google\n"
     ]
    },
    {
     "name": "stdout",
     "output_type": "stream",
     "text": [
      "First non-repeating character is : l\n"
     ]
    }
   ],
   "source": [
    "#python code to return first non-repeating element.   #30\n",
    "def non_repeating(s):\n",
    "    flag = 0\n",
    "    for i in s:\n",
    "        if s.count(i) == 1:\n",
    "            print(\"First non-repeating character is :\", i)\n",
    "            flag = 1\n",
    "            break\n",
    "    if flag == 0:\n",
    "        print(\"No non-repeating character\")\n",
    "s=input()\n",
    "non_repeating(s)"
   ]
  },
  {
   "cell_type": "code",
   "execution_count": null,
   "id": "b1e4c481-3ee5-405c-931e-fd7124b449a0",
   "metadata": {},
   "outputs": [],
   "source": []
  }
 ],
 "metadata": {
  "kernelspec": {
   "display_name": "Python 3 (ipykernel)",
   "language": "python",
   "name": "python3"
  },
  "language_info": {
   "codemirror_mode": {
    "name": "ipython",
    "version": 3
   },
   "file_extension": ".py",
   "mimetype": "text/x-python",
   "name": "python",
   "nbconvert_exporter": "python",
   "pygments_lexer": "ipython3",
   "version": "3.12.4"
  }
 },
 "nbformat": 4,
 "nbformat_minor": 5
}
